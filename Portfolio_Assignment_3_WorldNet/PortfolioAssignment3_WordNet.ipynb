{
  "nbformat": 4,
  "nbformat_minor": 0,
  "metadata": {
    "colab": {
      "provenance": []
    },
    "kernelspec": {
      "name": "python3",
      "display_name": "Python 3"
    },
    "language_info": {
      "name": "python"
    }
  },
  "cells": [
    {
      "cell_type": "markdown",
      "source": [
        "WordNet is a hirerarchical organization of nouns, verbs adjectives, and adverbs including their glossary, sets of synonyms, or related words, known as synsets and provides a brief definition and usage examples for each word. It also organizes words into hierarchies based on their meanings and relationships. WordNet is widely used by linguists, lexicographers, and computer scientists to help them build natural language processing systems and applications."
      ],
      "metadata": {
        "id": "HRlWLFdz5mO2"
      }
    },
    {
      "cell_type": "markdown",
      "source": [
        "First, we need to import wordnet"
      ],
      "metadata": {
        "id": "7em3pWc_76A9"
      }
    },
    {
      "cell_type": "code",
      "execution_count": 4,
      "metadata": {
        "id": "VsKZUVU15O06"
      },
      "outputs": [],
      "source": [
        "from nltk.corpus import wordnet as wn"
      ]
    },
    {
      "cell_type": "code",
      "source": [
        "# get all synsets of 'man'\n",
        "\n",
        "wn.synsets('man')"
      ],
      "metadata": {
        "colab": {
          "base_uri": "https://localhost:8080/",
          "height": 0
        },
        "id": "c2Qdx9BS7gGf",
        "outputId": "23ce2b3d-b0a7-4909-9fc6-e15795745591"
      },
      "execution_count": 62,
      "outputs": [
        {
          "output_type": "execute_result",
          "data": {
            "text/plain": [
              "[Synset('man.n.01'),\n",
              " Synset('serviceman.n.01'),\n",
              " Synset('man.n.03'),\n",
              " Synset('homo.n.02'),\n",
              " Synset('man.n.05'),\n",
              " Synset('man.n.06'),\n",
              " Synset('valet.n.01'),\n",
              " Synset('man.n.08'),\n",
              " Synset('man.n.09'),\n",
              " Synset('man.n.10'),\n",
              " Synset('world.n.08'),\n",
              " Synset('man.v.01'),\n",
              " Synset('man.v.02')]"
            ]
          },
          "metadata": {},
          "execution_count": 62
        }
      ]
    },
    {
      "cell_type": "markdown",
      "source": [
        "From a given synset, I used 'man.n.01', we can extract definition, usage example, and lemmas."
      ],
      "metadata": {
        "id": "oJTvWDHc9eCC"
      }
    },
    {
      "cell_type": "code",
      "source": [
        "# get a definition for the 'man.n.01' synset\n",
        "\n",
        "wn.synset('man.n.01').definition() "
      ],
      "metadata": {
        "colab": {
          "base_uri": "https://localhost:8080/",
          "height": 35
        },
        "id": "uIKjW8xl9WtC",
        "outputId": "1355e972-45f9-45a2-a9b4-11d3fbaa6ddc"
      },
      "execution_count": 63,
      "outputs": [
        {
          "output_type": "execute_result",
          "data": {
            "text/plain": [
              "'an adult person who is male (as opposed to a woman)'"
            ],
            "application/vnd.google.colaboratory.intrinsic+json": {
              "type": "string"
            }
          },
          "metadata": {},
          "execution_count": 63
        }
      ]
    },
    {
      "cell_type": "code",
      "source": [
        "# extract examples for 'man.n.01' synset\n",
        "\n",
        "wn.synset('man.n.01').examples()"
      ],
      "metadata": {
        "colab": {
          "base_uri": "https://localhost:8080/",
          "height": 0
        },
        "id": "sDF9R9C_-exi",
        "outputId": "98229e61-fc19-45e5-fc2c-725349608331"
      },
      "execution_count": 8,
      "outputs": [
        {
          "output_type": "execute_result",
          "data": {
            "text/plain": [
              "['there were two women and six men on the bus']"
            ]
          },
          "metadata": {},
          "execution_count": 8
        }
      ]
    },
    {
      "cell_type": "code",
      "source": [
        "# extract lemmas for 'man.n.01' synset\n",
        "\n",
        "wn.synset('man.n.01').lemmas()"
      ],
      "metadata": {
        "colab": {
          "base_uri": "https://localhost:8080/",
          "height": 0
        },
        "id": "pfKcSL5y_A-o",
        "outputId": "63446e4b-f9c4-4eb8-d026-537573e87323"
      },
      "execution_count": 10,
      "outputs": [
        {
          "output_type": "execute_result",
          "data": {
            "text/plain": [
              "[Lemma('man.n.01.man'), Lemma('man.n.01.adult_male')]"
            ]
          },
          "metadata": {},
          "execution_count": 10
        }
      ]
    },
    {
      "cell_type": "code",
      "source": [
        "# Traversing the hierarchy\n",
        "\n",
        "man = wn.synset('man.n.01')\n",
        "\n",
        "hyp = man.hypernyms()[0]\n",
        "top = wn.synset('entity.n.01')\n",
        "while hyp:\n",
        "  print(hyp)\n",
        "  if hyp == top:\n",
        "    break\n",
        "  if hyp.hypernyms(): \n",
        "    hyp = hyp.hypernyms()[0]"
      ],
      "metadata": {
        "colab": {
          "base_uri": "https://localhost:8080/",
          "height": 0
        },
        "id": "ehz6J_cM_6hY",
        "outputId": "2451d019-8f2b-453a-d251-23b5bc0c1b20"
      },
      "execution_count": 14,
      "outputs": [
        {
          "output_type": "stream",
          "name": "stdout",
          "text": [
            "Synset('adult.n.01')\n",
            "Synset('person.n.01')\n",
            "Synset('causal_agent.n.01')\n",
            "Synset('physical_entity.n.01')\n",
            "Synset('entity.n.01')\n"
          ]
        }
      ]
    },
    {
      "cell_type": "markdown",
      "source": [
        "WordNet is organized for nouns in a hierarchical structure, with each noun represented by a set of related words and concepts. Nouns have the top set to 'entity' which makes it possible to traverse the hierarchy of the synsets. one way the travers up of the hierarchy is to recursivly call hypernyms until we reach the top entity."
      ],
      "metadata": {
        "id": "XUvt98jQCbgf"
      }
    },
    {
      "cell_type": "code",
      "source": [
        "# Output for hypernyms\n",
        "\n",
        "man.hypernyms()"
      ],
      "metadata": {
        "colab": {
          "base_uri": "https://localhost:8080/",
          "height": 0
        },
        "id": "z2Zs0dPwCxTv",
        "outputId": "45c97d0e-7355-447a-a335-2b7a5c422dfb"
      },
      "execution_count": 18,
      "outputs": [
        {
          "output_type": "execute_result",
          "data": {
            "text/plain": [
              "[Synset('adult.n.01'), Synset('male.n.02')]"
            ]
          },
          "metadata": {},
          "execution_count": 18
        }
      ]
    },
    {
      "cell_type": "code",
      "source": [
        "# Output for hyponyms\n",
        "\n",
        "man.hyponyms()"
      ],
      "metadata": {
        "colab": {
          "base_uri": "https://localhost:8080/",
          "height": 0
        },
        "id": "GQVnvz8FD_sK",
        "outputId": "70595fae-cc61-431c-b5c5-cc0e855b79e4"
      },
      "execution_count": 19,
      "outputs": [
        {
          "output_type": "execute_result",
          "data": {
            "text/plain": [
              "[Synset('adonis.n.01'),\n",
              " Synset('babu.n.01'),\n",
              " Synset('bachelor.n.01'),\n",
              " Synset('bey.n.01'),\n",
              " Synset('black_man.n.01'),\n",
              " Synset('boy.n.02'),\n",
              " Synset('boyfriend.n.01'),\n",
              " Synset('bull.n.02'),\n",
              " Synset('dandy.n.01'),\n",
              " Synset('ejaculator.n.01'),\n",
              " Synset('esquire.n.02'),\n",
              " Synset('eunuch.n.01'),\n",
              " Synset('ex-boyfriend.n.01'),\n",
              " Synset('ex-husband.n.01'),\n",
              " Synset('father-figure.n.01'),\n",
              " Synset('father_figure.n.01'),\n",
              " Synset('fellow.n.06'),\n",
              " Synset('galoot.n.01'),\n",
              " Synset('geezer.n.01'),\n",
              " Synset('gentleman.n.01'),\n",
              " Synset('grass_widower.n.01'),\n",
              " Synset('guy.n.01'),\n",
              " Synset('herr.n.01'),\n",
              " Synset('hooray_henry.n.01'),\n",
              " Synset('housefather.n.01'),\n",
              " Synset('hunk.n.01'),\n",
              " Synset('inamorato.n.01'),\n",
              " Synset('iron_man.n.01'),\n",
              " Synset('ironside.n.01'),\n",
              " Synset('middle-aged_man.n.01'),\n",
              " Synset('monsieur.n.01'),\n",
              " Synset('old_boy.n.01'),\n",
              " Synset('old_man.n.01'),\n",
              " Synset('patriarch.n.02'),\n",
              " Synset('peter_pan.n.01'),\n",
              " Synset('ponce.n.01'),\n",
              " Synset('posseman.n.01'),\n",
              " Synset('senhor.n.01'),\n",
              " Synset('shaver.n.01'),\n",
              " Synset('signor.n.01'),\n",
              " Synset('signore.n.01'),\n",
              " Synset('sir.n.01'),\n",
              " Synset('stiff.n.01'),\n",
              " Synset('stud.n.01'),\n",
              " Synset('tarzan.n.01'),\n",
              " Synset('white_man.n.01'),\n",
              " Synset('widower.n.01'),\n",
              " Synset('womanizer.n.01'),\n",
              " Synset('wonder_boy.n.01'),\n",
              " Synset('yellow_man.n.01'),\n",
              " Synset('young_buck.n.01')]"
            ]
          },
          "metadata": {},
          "execution_count": 19
        }
      ]
    },
    {
      "cell_type": "code",
      "source": [
        "# Output the meronyms\n",
        "\n",
        "print('meronyms: ' ,man.part_meronyms())"
      ],
      "metadata": {
        "colab": {
          "base_uri": "https://localhost:8080/",
          "height": 0
        },
        "id": "WpMzhxo3ESyQ",
        "outputId": "91f43d60-3d34-4183-faba-f1f41db5f88c"
      },
      "execution_count": 25,
      "outputs": [
        {
          "output_type": "stream",
          "name": "stdout",
          "text": [
            "meronyms:  [Synset('adult_male_body.n.01')]\n"
          ]
        }
      ]
    },
    {
      "cell_type": "code",
      "source": [
        "# Output the holonyms\n",
        "\n",
        "print('holonyms: ', man.part_holonyms())"
      ],
      "metadata": {
        "colab": {
          "base_uri": "https://localhost:8080/",
          "height": 0
        },
        "id": "N9XoR3TnEfxu",
        "outputId": "5cd3758d-6a61-4465-f31b-fdb3986b4510"
      },
      "execution_count": 23,
      "outputs": [
        {
          "output_type": "stream",
          "name": "stdout",
          "text": [
            "holonyms:  []\n"
          ]
        }
      ]
    },
    {
      "cell_type": "code",
      "source": [
        "# Output the antonym\n",
        "\n",
        "print('antonym: ', man.lemmas()[0].antonyms())"
      ],
      "metadata": {
        "colab": {
          "base_uri": "https://localhost:8080/",
          "height": 0
        },
        "id": "2VbOetlxEvt9",
        "outputId": "78a3053f-cbf3-467b-cc1b-d195f5b9671c"
      },
      "execution_count": 26,
      "outputs": [
        {
          "output_type": "stream",
          "name": "stdout",
          "text": [
            "antonym:  [Lemma('woman.n.01.woman')]\n"
          ]
        }
      ]
    },
    {
      "cell_type": "markdown",
      "source": [
        "Select a verb 'talk'"
      ],
      "metadata": {
        "id": "tEPY452GMpyx"
      }
    },
    {
      "cell_type": "code",
      "source": [
        "# get all synsets of 'talk'\n",
        "wn.synsets('talk')"
      ],
      "metadata": {
        "colab": {
          "base_uri": "https://localhost:8080/",
          "height": 0
        },
        "id": "6ki6jVNrMur9",
        "outputId": "1819ce24-9faf-4893-e767-b3df08ab3a3c"
      },
      "execution_count": 29,
      "outputs": [
        {
          "output_type": "execute_result",
          "data": {
            "text/plain": [
              "[Synset('talk.n.01'),\n",
              " Synset('talk.n.02'),\n",
              " Synset('talk.n.03'),\n",
              " Synset('lecture.n.01'),\n",
              " Synset('talk.n.05'),\n",
              " Synset('talk.v.01'),\n",
              " Synset('talk.v.02'),\n",
              " Synset('speak.v.03'),\n",
              " Synset('spill.v.05'),\n",
              " Synset('spill_the_beans.v.01'),\n",
              " Synset('lecture.v.01')]"
            ]
          },
          "metadata": {},
          "execution_count": 29
        }
      ]
    },
    {
      "cell_type": "markdown",
      "source": [
        "From a given synset, I used 'talk.n.01', we can extract definition, usage example, and lemmas."
      ],
      "metadata": {
        "id": "AIa0xH_xN2YC"
      }
    },
    {
      "cell_type": "code",
      "source": [
        "# get a definition for the 'talk.v.01' synset\n",
        "\n",
        "wn.synset('talk.v.01').definition() "
      ],
      "metadata": {
        "colab": {
          "base_uri": "https://localhost:8080/",
          "height": 35
        },
        "id": "cBUL2tJeN6Iz",
        "outputId": "cb4e0414-083b-4c5f-d4c1-f0557625ada0"
      },
      "execution_count": 30,
      "outputs": [
        {
          "output_type": "execute_result",
          "data": {
            "text/plain": [
              "'exchange thoughts; talk with'"
            ],
            "application/vnd.google.colaboratory.intrinsic+json": {
              "type": "string"
            }
          },
          "metadata": {},
          "execution_count": 30
        }
      ]
    },
    {
      "cell_type": "code",
      "source": [
        "# extract examples for 'talk.v.01' synset\n",
        "\n",
        "wn.synset('talk.v.01').examples()"
      ],
      "metadata": {
        "colab": {
          "base_uri": "https://localhost:8080/",
          "height": 0
        },
        "id": "QO4efFh0OQfT",
        "outputId": "cf6d18b7-51d5-46c4-95c5-0e119968474c"
      },
      "execution_count": 31,
      "outputs": [
        {
          "output_type": "execute_result",
          "data": {
            "text/plain": [
              "['We often talk business', 'Actions talk louder than words']"
            ]
          },
          "metadata": {},
          "execution_count": 31
        }
      ]
    },
    {
      "cell_type": "code",
      "source": [
        "# extract lemmas for 'talk.v.01' synset\n",
        "\n",
        "wn.synset('talk.v.01').lemmas()"
      ],
      "metadata": {
        "colab": {
          "base_uri": "https://localhost:8080/",
          "height": 0
        },
        "id": "6Mgqx1eIOaKy",
        "outputId": "c76d09c2-b145-439c-b0e4-37ec414ea4a3"
      },
      "execution_count": 32,
      "outputs": [
        {
          "output_type": "execute_result",
          "data": {
            "text/plain": [
              "[Lemma('talk.v.01.talk'), Lemma('talk.v.01.speak')]"
            ]
          },
          "metadata": {},
          "execution_count": 32
        }
      ]
    },
    {
      "cell_type": "code",
      "source": [
        "# Traversing the hierarchy\n",
        "\n",
        "talk = wn.synset('talk.v.01')\n",
        "\n",
        "hyper = lambda s: s.hypernyms()\n",
        "list(talk.closure(hyper))"
      ],
      "metadata": {
        "colab": {
          "base_uri": "https://localhost:8080/",
          "height": 0
        },
        "id": "orsS3rxLOl02",
        "outputId": "a02a2456-f797-4f95-a306-16b6456b3647"
      },
      "execution_count": 36,
      "outputs": [
        {
          "output_type": "execute_result",
          "data": {
            "text/plain": [
              "[Synset('communicate.v.02'), Synset('interact.v.01'), Synset('act.v.01')]"
            ]
          },
          "metadata": {},
          "execution_count": 36
        }
      ]
    },
    {
      "cell_type": "markdown",
      "source": [
        "WordNet is organized in a hierarchical manner for verbs, with hypernym/hyponym relationship. unlike nouns, they do not have a top so it is difficult to traverse in the same way as nouns. A better way to approach is using closure method provided by nltk to pass in a lambda function."
      ],
      "metadata": {
        "id": "5VNWfqOfSM5K"
      }
    },
    {
      "cell_type": "code",
      "source": [
        "# use morphy to find different forms of the word\n",
        "\n",
        "morphy_verb = wn.morphy('talk')\n",
        "wn.synsets(morphy_verb)"
      ],
      "metadata": {
        "colab": {
          "base_uri": "https://localhost:8080/",
          "height": 0
        },
        "id": "gu3gvjS3SLuN",
        "outputId": "2ffabe48-3e22-423d-d50b-49fdcc5c01cc"
      },
      "execution_count": 38,
      "outputs": [
        {
          "output_type": "execute_result",
          "data": {
            "text/plain": [
              "[Synset('talk.n.01'),\n",
              " Synset('talk.n.02'),\n",
              " Synset('talk.n.03'),\n",
              " Synset('lecture.n.01'),\n",
              " Synset('talk.n.05'),\n",
              " Synset('talk.v.01'),\n",
              " Synset('talk.v.02'),\n",
              " Synset('speak.v.03'),\n",
              " Synset('spill.v.05'),\n",
              " Synset('spill_the_beans.v.01'),\n",
              " Synset('lecture.v.01')]"
            ]
          },
          "metadata": {},
          "execution_count": 38
        }
      ]
    },
    {
      "cell_type": "code",
      "source": [
        "# select two words\n",
        "word1 = 'cost'\n",
        "word2 = 'price'"
      ],
      "metadata": {
        "id": "W2_WcWenUgEY"
      },
      "execution_count": 39,
      "outputs": []
    },
    {
      "cell_type": "code",
      "source": [
        "# get all synsets of 'cost'\n",
        "wn.synsets('cost')"
      ],
      "metadata": {
        "colab": {
          "base_uri": "https://localhost:8080/",
          "height": 0
        },
        "id": "_rrlArYJVvlS",
        "outputId": "44be9f74-c2e7-49f7-a14c-e484f5e0ad5d"
      },
      "execution_count": 40,
      "outputs": [
        {
          "output_type": "execute_result",
          "data": {
            "text/plain": [
              "[Synset('cost.n.01'),\n",
              " Synset('monetary_value.n.01'),\n",
              " Synset('price.n.03'),\n",
              " Synset('cost.v.01'),\n",
              " Synset('cost.v.02')]"
            ]
          },
          "metadata": {},
          "execution_count": 40
        }
      ]
    },
    {
      "cell_type": "code",
      "source": [
        "# get all synsets of 'price'\n",
        "wn.synsets('price')"
      ],
      "metadata": {
        "colab": {
          "base_uri": "https://localhost:8080/",
          "height": 0
        },
        "id": "04OCcoS8V9wu",
        "outputId": "01bdb876-6f14-4dff-a541-752be6b6e0cc"
      },
      "execution_count": 41,
      "outputs": [
        {
          "output_type": "execute_result",
          "data": {
            "text/plain": [
              "[Synset('monetary_value.n.01'),\n",
              " Synset('price.n.02'),\n",
              " Synset('price.n.03'),\n",
              " Synset('price.n.04'),\n",
              " Synset('price.n.05'),\n",
              " Synset('price.n.06'),\n",
              " Synset('price.n.07'),\n",
              " Synset('price.v.01'),\n",
              " Synset('price.v.02')]"
            ]
          },
          "metadata": {},
          "execution_count": 41
        }
      ]
    },
    {
      "cell_type": "code",
      "source": [
        "# check similarity compare to Wu-palmer\n",
        "cost = wn.synset('cost.v.01')\n",
        "price = wn.synset('price.v.01')\n",
        "\n",
        "print('wn_palmer Similarity: ', wn.wup_similarity(cost, price))"
      ],
      "metadata": {
        "colab": {
          "base_uri": "https://localhost:8080/",
          "height": 0
        },
        "id": "MkfOo6ErWCuc",
        "outputId": "4e5dc3c1-35fb-457e-c552-49079406780f"
      },
      "execution_count": 44,
      "outputs": [
        {
          "output_type": "stream",
          "name": "stdout",
          "text": [
            "wn_palmer Similarity:  0.3333333333333333\n"
          ]
        }
      ]
    },
    {
      "cell_type": "code",
      "source": [
        "# check similarity compare to Wu-palmer\n",
        "cost = wn.synset('cost.n.01')\n",
        "price = wn.synset('price.n.02')\n",
        "\n",
        "print('wn_palmer Similarity: ', wn.wup_similarity(cost, price))"
      ],
      "metadata": {
        "colab": {
          "base_uri": "https://localhost:8080/",
          "height": 0
        },
        "id": "2vunf77XXb6j",
        "outputId": "cea5c66f-df0f-4a01-821f-ab2a6779d7a2"
      },
      "execution_count": 45,
      "outputs": [
        {
          "output_type": "stream",
          "name": "stdout",
          "text": [
            "wn_palmer Similarity:  0.9333333333333333\n"
          ]
        }
      ]
    },
    {
      "cell_type": "markdown",
      "source": [
        "The first similarity comparison between 'cost.v.01' and 'price.v.01' using the Wu-Palmer algorithm has a low similarity score of 0.333333, indicating that these two synsets have little overlap in their semantic meaning. On the other hand, the second comparison between 'cost.n.01' and 'price.n.02' has a high similarity score of 0.933333, suggesting that these two synsets are closely related in meaning, likely because they both belong to the same semantic domain of economics."
      ],
      "metadata": {
        "id": "ndXt7jJBYZ7E"
      }
    },
    {
      "cell_type": "markdown",
      "source": [
        "The SemtiWordNet is used to analyze bodies of text in order to determine if it positive/negative or subjective. it also provides information on the degree in which a certain word displays the aforementioned characteristics. it has various practical applications such as analyzing journals to analyze the participant emotions, to flag inappropriate and vulgar text on social media website automatically and so on."
      ],
      "metadata": {
        "id": "CGi8oJWBYmCL"
      }
    },
    {
      "cell_type": "code",
      "source": [
        "from nltk.corpus import sentiwordnet as swn"
      ],
      "metadata": {
        "id": "Jx1fJPFeYZUg"
      },
      "execution_count": 47,
      "outputs": []
    },
    {
      "cell_type": "code",
      "source": [
        "wn.synsets('smile')"
      ],
      "metadata": {
        "colab": {
          "base_uri": "https://localhost:8080/",
          "height": 0
        },
        "id": "wmQ8vzi4baO1",
        "outputId": "83b35471-2afd-465a-b615-e52b7be82b62"
      },
      "execution_count": 50,
      "outputs": [
        {
          "output_type": "execute_result",
          "data": {
            "text/plain": [
              "[Synset('smile.n.01'), Synset('smile.v.01'), Synset('smile.v.02')]"
            ]
          },
          "metadata": {},
          "execution_count": 50
        }
      ]
    },
    {
      "cell_type": "code",
      "source": [
        "smile = swn.senti_synset('smile.n.01')\n",
        "print(smile)\n",
        "print(\"Positive score = \", smile.pos_score())\n",
        "print(\"Negative score = \", smile.neg_score())\n",
        "print(\"Objective score = \", smile.obj_score())"
      ],
      "metadata": {
        "colab": {
          "base_uri": "https://localhost:8080/",
          "height": 0
        },
        "id": "8cUF6f2vbk1H",
        "outputId": "0a14a697-5d4b-4fa5-ffa7-0b1a8b960a5b"
      },
      "execution_count": 53,
      "outputs": [
        {
          "output_type": "stream",
          "name": "stdout",
          "text": [
            "<smile.n.01: PosScore=0.125 NegScore=0.0>\n",
            "Positive score =  0.125\n",
            "Negative score =  0.0\n",
            "Objective score =  0.875\n"
          ]
        }
      ]
    },
    {
      "cell_type": "code",
      "source": [
        "# look up sentisynsets\n",
        "word = 'smile'\n",
        "syn_list = list(swn.senti_synsets(word))\n",
        "for item in syn_list:\n",
        "  print(item)"
      ],
      "metadata": {
        "colab": {
          "base_uri": "https://localhost:8080/",
          "height": 0
        },
        "id": "keFiNVJqZqD1",
        "outputId": "7808bc12-decf-4395-e02d-87cc9f60eeb6"
      },
      "execution_count": 48,
      "outputs": [
        {
          "output_type": "stream",
          "name": "stdout",
          "text": [
            "<smile.n.01: PosScore=0.125 NegScore=0.0>\n",
            "<smile.v.01: PosScore=0.0 NegScore=0.0>\n",
            "<smile.v.02: PosScore=0.0 NegScore=0.0>\n"
          ]
        }
      ]
    },
    {
      "cell_type": "code",
      "source": [
        "# make a sentence and output the polarity for each work in the sentence\n",
        "sent = 'I am very happy'\n",
        "tokens = sent.split()\n",
        "for token in tokens:\n",
        "  print('For the Word: ', token)\n",
        "  syn_list = list(swn.senti_synsets(token))\n",
        "  if syn_list:\n",
        "    for item in syn_list:\n",
        "      print(item)\n",
        "    print()"
      ],
      "metadata": {
        "colab": {
          "base_uri": "https://localhost:8080/",
          "height": 0
        },
        "id": "9FwoRkKxc0ly",
        "outputId": "06eb470c-6afd-4968-96f1-070d8c292437"
      },
      "execution_count": 55,
      "outputs": [
        {
          "output_type": "stream",
          "name": "stdout",
          "text": [
            "For the Word:  I\n",
            "<iodine.n.01: PosScore=0.0 NegScore=0.0>\n",
            "<one.n.01: PosScore=0.0 NegScore=0.0>\n",
            "<i.n.03: PosScore=0.0 NegScore=0.0>\n",
            "<one.s.01: PosScore=0.0 NegScore=0.25>\n",
            "\n",
            "For the Word:  am\n",
            "<americium.n.01: PosScore=0.0 NegScore=0.0>\n",
            "<master_of_arts.n.01: PosScore=0.0 NegScore=0.125>\n",
            "<amplitude_modulation.n.01: PosScore=0.0 NegScore=0.0>\n",
            "<be.v.01: PosScore=0.25 NegScore=0.125>\n",
            "<be.v.02: PosScore=0.0 NegScore=0.0>\n",
            "<be.v.03: PosScore=0.0 NegScore=0.0>\n",
            "<exist.v.01: PosScore=0.0 NegScore=0.0>\n",
            "<be.v.05: PosScore=0.0 NegScore=0.0>\n",
            "<equal.v.01: PosScore=0.125 NegScore=0.125>\n",
            "<constitute.v.01: PosScore=0.0 NegScore=0.0>\n",
            "<be.v.08: PosScore=0.0 NegScore=0.0>\n",
            "<embody.v.02: PosScore=0.0 NegScore=0.0>\n",
            "<be.v.10: PosScore=0.0 NegScore=0.0>\n",
            "<be.v.11: PosScore=0.0 NegScore=0.0>\n",
            "<be.v.12: PosScore=0.0 NegScore=0.0>\n",
            "<cost.v.01: PosScore=0.0 NegScore=0.0>\n",
            "\n",
            "For the Word:  very\n",
            "<very.s.01: PosScore=0.5 NegScore=0.0>\n",
            "<identical.s.02: PosScore=0.5 NegScore=0.125>\n",
            "<very.r.01: PosScore=0.25 NegScore=0.25>\n",
            "<very.r.02: PosScore=0.25 NegScore=0.0>\n",
            "\n",
            "For the Word:  happy\n",
            "<happy.a.01: PosScore=0.875 NegScore=0.0>\n",
            "<felicitous.s.02: PosScore=0.75 NegScore=0.0>\n",
            "<glad.s.02: PosScore=0.5 NegScore=0.0>\n",
            "<happy.s.04: PosScore=0.125 NegScore=0.0>\n",
            "\n"
          ]
        }
      ]
    },
    {
      "cell_type": "markdown",
      "source": [
        "The scores here show whether the words have a positive or negative score and in addition shows the degree to which they are negative or positive. This can have real life applications especially if we are trying to automatically flag profance twwets or other social media post by seeing the ratio between positive to negative words, the fraction of negative words in the text, and so on to make an informed decision to estimate if a text body is malicious or not."
      ],
      "metadata": {
        "id": "EQwgCnO-eL7D"
      }
    },
    {
      "cell_type": "markdown",
      "source": [
        "A collocation is a combination of two or more words that often go together to form a phrase that cannot be substituted by a single wor to yield the same meaning, such as \"strong coffee\" or \"make a decision.\" Collocations are often used in everyday language and can help give a sentence more natural-sounding rhythm."
      ],
      "metadata": {
        "id": "0dDKKBy7e8U8"
      }
    },
    {
      "cell_type": "code",
      "source": [
        "import nltk\n",
        "from nltk.book import *\n",
        "text4"
      ],
      "metadata": {
        "colab": {
          "base_uri": "https://localhost:8080/",
          "height": 0
        },
        "id": "E5WIvVYIeLh8",
        "outputId": "0bf43420-79c6-4287-ca19-1b6dc48fffda"
      },
      "execution_count": 56,
      "outputs": [
        {
          "output_type": "stream",
          "name": "stdout",
          "text": [
            "*** Introductory Examples for the NLTK Book ***\n",
            "Loading text1, ..., text9 and sent1, ..., sent9\n",
            "Type the name of the text or sentence to view it.\n",
            "Type: 'texts()' or 'sents()' to list the materials.\n",
            "text1: Moby Dick by Herman Melville 1851\n",
            "text2: Sense and Sensibility by Jane Austen 1811\n",
            "text3: The Book of Genesis\n",
            "text4: Inaugural Address Corpus\n",
            "text5: Chat Corpus\n",
            "text6: Monty Python and the Holy Grail\n",
            "text7: Wall Street Journal\n",
            "text8: Personals Corpus\n",
            "text9: The Man Who Was Thursday by G . K . Chesterton 1908\n"
          ]
        },
        {
          "output_type": "execute_result",
          "data": {
            "text/plain": [
              "<Text: Inaugural Address Corpus>"
            ]
          },
          "metadata": {},
          "execution_count": 56
        }
      ]
    },
    {
      "cell_type": "code",
      "source": [
        "import nltk\n",
        "nltk.download('stopwords')"
      ],
      "metadata": {
        "colab": {
          "base_uri": "https://localhost:8080/",
          "height": 0
        },
        "id": "YuPv3qPWgGmA",
        "outputId": "192fdad1-e564-4263-ce5f-053ccd85647c"
      },
      "execution_count": 58,
      "outputs": [
        {
          "output_type": "stream",
          "name": "stderr",
          "text": [
            "[nltk_data] Downloading package stopwords to /root/nltk_data...\n",
            "[nltk_data]   Unzipping corpora/stopwords.zip.\n"
          ]
        },
        {
          "output_type": "execute_result",
          "data": {
            "text/plain": [
              "True"
            ]
          },
          "metadata": {},
          "execution_count": 58
        }
      ]
    },
    {
      "cell_type": "code",
      "source": [
        "text4.collocations()"
      ],
      "metadata": {
        "colab": {
          "base_uri": "https://localhost:8080/",
          "height": 0
        },
        "id": "q19nhQQMgcuf",
        "outputId": "b8a7f5d9-1dd7-4291-c9ab-eb15217409b8"
      },
      "execution_count": 59,
      "outputs": [
        {
          "output_type": "stream",
          "name": "stdout",
          "text": [
            "United States; fellow citizens; years ago; four years; Federal\n",
            "Government; General Government; American people; Vice President; God\n",
            "bless; Chief Justice; one another; fellow Americans; Old World;\n",
            "Almighty God; Fellow citizens; Chief Magistrate; every citizen; Indian\n",
            "tribes; public debt; foreign nations\n"
          ]
        }
      ]
    },
    {
      "cell_type": "code",
      "source": [
        "# calculate mutual information\n",
        "\n",
        "text = ' '.join(text4.tokens)\n",
        "text[:50]"
      ],
      "metadata": {
        "colab": {
          "base_uri": "https://localhost:8080/",
          "height": 35
        },
        "id": "UxZuY50Lg4uM",
        "outputId": "bd8f3a9b-54c3-4e1f-b318-70b7ae40edfc"
      },
      "execution_count": 60,
      "outputs": [
        {
          "output_type": "execute_result",
          "data": {
            "text/plain": [
              "'Fellow - Citizens of the Senate and of the House o'"
            ],
            "application/vnd.google.colaboratory.intrinsic+json": {
              "type": "string"
            }
          },
          "metadata": {},
          "execution_count": 60
        }
      ]
    },
    {
      "cell_type": "code",
      "source": [
        "import math\n",
        "vocab = len(set(text4))\n",
        "hg = text.count('United States')/vocab\n",
        "print(\"p(United States) = \",hg )\n",
        "h = text.count('United')/vocab\n",
        "print(\"p(United) = \", h)\n",
        "g = text.count('States')/vocab\n",
        "print('p(States) = ', g)\n",
        "pmi = math.log2(hg / (h * g))\n",
        "print('pmi = ', pmi)"
      ],
      "metadata": {
        "colab": {
          "base_uri": "https://localhost:8080/",
          "height": 0
        },
        "id": "dY_tNvqfhZKq",
        "outputId": "78595285-cb39-41aa-83a6-5c51ebc8068f"
      },
      "execution_count": 61,
      "outputs": [
        {
          "output_type": "stream",
          "name": "stdout",
          "text": [
            "p(United States) =  0.015860349127182045\n",
            "p(United) =  0.0170573566084788\n",
            "p(States) =  0.03301745635910224\n",
            "pmi =  4.815657649820885\n"
          ]
        }
      ]
    },
    {
      "cell_type": "markdown",
      "source": [
        "The results show a positive pmi and rather high positive pmi which suggests that \"United States\" is most likely a collocation."
      ],
      "metadata": {
        "id": "MK9ZiCUkh4FA"
      }
    }
  ]
}